{
 "cells": [
  {
   "cell_type": "code",
   "execution_count": 1,
   "id": "1d011386",
   "metadata": {
    "_cell_guid": "b1076dfc-b9ad-4769-8c92-a6c4dae69d19",
    "_uuid": "8f2839f25d086af736a60e9eeb907d3b93b6e0e5",
    "execution": {
     "iopub.execute_input": "2023-08-11T10:09:36.809100Z",
     "iopub.status.busy": "2023-08-11T10:09:36.808595Z",
     "iopub.status.idle": "2023-08-11T10:09:45.745549Z",
     "shell.execute_reply": "2023-08-11T10:09:45.744600Z"
    },
    "papermill": {
     "duration": 8.947669,
     "end_time": "2023-08-11T10:09:45.747837",
     "exception": false,
     "start_time": "2023-08-11T10:09:36.800168",
     "status": "completed"
    },
    "tags": []
   },
   "outputs": [
    {
     "name": "stderr",
     "output_type": "stream",
     "text": [
      "/opt/conda/lib/python3.10/site-packages/scipy/__init__.py:146: UserWarning: A NumPy version >=1.16.5 and <1.23.0 is required for this version of SciPy (detected version 1.23.5\n",
      "  warnings.warn(f\"A NumPy version >={np_minversion} and <{np_maxversion}\"\n",
      "/opt/conda/lib/python3.10/site-packages/tensorflow_io/python/ops/__init__.py:98: UserWarning: unable to load libtensorflow_io_plugins.so: unable to open file: libtensorflow_io_plugins.so, from paths: ['/opt/conda/lib/python3.10/site-packages/tensorflow_io/python/ops/libtensorflow_io_plugins.so']\n",
      "caused by: ['/opt/conda/lib/python3.10/site-packages/tensorflow_io/python/ops/libtensorflow_io_plugins.so: undefined symbol: _ZN3tsl6StatusC1EN10tensorflow5error4CodeESt17basic_string_viewIcSt11char_traitsIcEENS_14SourceLocationE']\n",
      "  warnings.warn(f\"unable to load libtensorflow_io_plugins.so: {e}\")\n",
      "/opt/conda/lib/python3.10/site-packages/tensorflow_io/python/ops/__init__.py:104: UserWarning: file system plugins are not loaded: unable to open file: libtensorflow_io.so, from paths: ['/opt/conda/lib/python3.10/site-packages/tensorflow_io/python/ops/libtensorflow_io.so']\n",
      "caused by: ['/opt/conda/lib/python3.10/site-packages/tensorflow_io/python/ops/libtensorflow_io.so: undefined symbol: _ZTVN10tensorflow13GcsFileSystemE']\n",
      "  warnings.warn(f\"file system plugins are not loaded: {e}\")\n"
     ]
    },
    {
     "name": "stdout",
     "output_type": "stream",
     "text": [
      "/kaggle/input/digit-recognizer/sample_submission.csv\n",
      "/kaggle/input/digit-recognizer/train.csv\n",
      "/kaggle/input/digit-recognizer/test.csv\n"
     ]
    }
   ],
   "source": [
    "import numpy as np \n",
    "import pandas as pd \n",
    "import tensorflow as tf\n",
    "import os\n",
    "import seaborn as sns\n",
    "import matplotlib.pyplot as plt\n",
    "import matplotlib.image as mpimg\n",
    "from keras.models import Sequential\n",
    "from keras.layers import Dense, Dropout, Flatten, Conv2D, MaxPool2D\n",
    "from sklearn.utils import shuffle\n",
    "from sklearn.metrics import confusion_matrix\n",
    "from sklearn.model_selection import train_test_split\n",
    "for dirname, _, filenames in os.walk('/kaggle/input'):\n",
    "    for filename in filenames:\n",
    "        print(os.path.join(dirname, filename))"
   ]
  },
  {
   "cell_type": "code",
   "execution_count": 2,
   "id": "205643ec",
   "metadata": {
    "execution": {
     "iopub.execute_input": "2023-08-11T10:09:45.765069Z",
     "iopub.status.busy": "2023-08-11T10:09:45.763207Z",
     "iopub.status.idle": "2023-08-11T10:09:51.291234Z",
     "shell.execute_reply": "2023-08-11T10:09:51.290210Z"
    },
    "papermill": {
     "duration": 5.538749,
     "end_time": "2023-08-11T10:09:51.293965",
     "exception": false,
     "start_time": "2023-08-11T10:09:45.755216",
     "status": "completed"
    },
    "tags": []
   },
   "outputs": [],
   "source": [
    "train_df = pd.read_csv(\"/kaggle/input/digit-recognizer/train.csv\")\n",
    "test_df = pd.read_csv(\"/kaggle/input/digit-recognizer/test.csv\")"
   ]
  },
  {
   "cell_type": "code",
   "execution_count": 3,
   "id": "62db79af",
   "metadata": {
    "execution": {
     "iopub.execute_input": "2023-08-11T10:09:51.309523Z",
     "iopub.status.busy": "2023-08-11T10:09:51.309201Z",
     "iopub.status.idle": "2023-08-11T10:09:51.333764Z",
     "shell.execute_reply": "2023-08-11T10:09:51.332853Z"
    },
    "papermill": {
     "duration": 0.03478,
     "end_time": "2023-08-11T10:09:51.335895",
     "exception": false,
     "start_time": "2023-08-11T10:09:51.301115",
     "status": "completed"
    },
    "tags": []
   },
   "outputs": [
    {
     "data": {
      "text/html": [
       "<div>\n",
       "<style scoped>\n",
       "    .dataframe tbody tr th:only-of-type {\n",
       "        vertical-align: middle;\n",
       "    }\n",
       "\n",
       "    .dataframe tbody tr th {\n",
       "        vertical-align: top;\n",
       "    }\n",
       "\n",
       "    .dataframe thead th {\n",
       "        text-align: right;\n",
       "    }\n",
       "</style>\n",
       "<table border=\"1\" class=\"dataframe\">\n",
       "  <thead>\n",
       "    <tr style=\"text-align: right;\">\n",
       "      <th></th>\n",
       "      <th>label</th>\n",
       "      <th>pixel0</th>\n",
       "      <th>pixel1</th>\n",
       "      <th>pixel2</th>\n",
       "      <th>pixel3</th>\n",
       "      <th>pixel4</th>\n",
       "      <th>pixel5</th>\n",
       "      <th>pixel6</th>\n",
       "      <th>pixel7</th>\n",
       "      <th>pixel8</th>\n",
       "      <th>...</th>\n",
       "      <th>pixel774</th>\n",
       "      <th>pixel775</th>\n",
       "      <th>pixel776</th>\n",
       "      <th>pixel777</th>\n",
       "      <th>pixel778</th>\n",
       "      <th>pixel779</th>\n",
       "      <th>pixel780</th>\n",
       "      <th>pixel781</th>\n",
       "      <th>pixel782</th>\n",
       "      <th>pixel783</th>\n",
       "    </tr>\n",
       "  </thead>\n",
       "  <tbody>\n",
       "    <tr>\n",
       "      <th>0</th>\n",
       "      <td>1</td>\n",
       "      <td>0</td>\n",
       "      <td>0</td>\n",
       "      <td>0</td>\n",
       "      <td>0</td>\n",
       "      <td>0</td>\n",
       "      <td>0</td>\n",
       "      <td>0</td>\n",
       "      <td>0</td>\n",
       "      <td>0</td>\n",
       "      <td>...</td>\n",
       "      <td>0</td>\n",
       "      <td>0</td>\n",
       "      <td>0</td>\n",
       "      <td>0</td>\n",
       "      <td>0</td>\n",
       "      <td>0</td>\n",
       "      <td>0</td>\n",
       "      <td>0</td>\n",
       "      <td>0</td>\n",
       "      <td>0</td>\n",
       "    </tr>\n",
       "    <tr>\n",
       "      <th>1</th>\n",
       "      <td>0</td>\n",
       "      <td>0</td>\n",
       "      <td>0</td>\n",
       "      <td>0</td>\n",
       "      <td>0</td>\n",
       "      <td>0</td>\n",
       "      <td>0</td>\n",
       "      <td>0</td>\n",
       "      <td>0</td>\n",
       "      <td>0</td>\n",
       "      <td>...</td>\n",
       "      <td>0</td>\n",
       "      <td>0</td>\n",
       "      <td>0</td>\n",
       "      <td>0</td>\n",
       "      <td>0</td>\n",
       "      <td>0</td>\n",
       "      <td>0</td>\n",
       "      <td>0</td>\n",
       "      <td>0</td>\n",
       "      <td>0</td>\n",
       "    </tr>\n",
       "    <tr>\n",
       "      <th>2</th>\n",
       "      <td>1</td>\n",
       "      <td>0</td>\n",
       "      <td>0</td>\n",
       "      <td>0</td>\n",
       "      <td>0</td>\n",
       "      <td>0</td>\n",
       "      <td>0</td>\n",
       "      <td>0</td>\n",
       "      <td>0</td>\n",
       "      <td>0</td>\n",
       "      <td>...</td>\n",
       "      <td>0</td>\n",
       "      <td>0</td>\n",
       "      <td>0</td>\n",
       "      <td>0</td>\n",
       "      <td>0</td>\n",
       "      <td>0</td>\n",
       "      <td>0</td>\n",
       "      <td>0</td>\n",
       "      <td>0</td>\n",
       "      <td>0</td>\n",
       "    </tr>\n",
       "    <tr>\n",
       "      <th>3</th>\n",
       "      <td>4</td>\n",
       "      <td>0</td>\n",
       "      <td>0</td>\n",
       "      <td>0</td>\n",
       "      <td>0</td>\n",
       "      <td>0</td>\n",
       "      <td>0</td>\n",
       "      <td>0</td>\n",
       "      <td>0</td>\n",
       "      <td>0</td>\n",
       "      <td>...</td>\n",
       "      <td>0</td>\n",
       "      <td>0</td>\n",
       "      <td>0</td>\n",
       "      <td>0</td>\n",
       "      <td>0</td>\n",
       "      <td>0</td>\n",
       "      <td>0</td>\n",
       "      <td>0</td>\n",
       "      <td>0</td>\n",
       "      <td>0</td>\n",
       "    </tr>\n",
       "    <tr>\n",
       "      <th>4</th>\n",
       "      <td>0</td>\n",
       "      <td>0</td>\n",
       "      <td>0</td>\n",
       "      <td>0</td>\n",
       "      <td>0</td>\n",
       "      <td>0</td>\n",
       "      <td>0</td>\n",
       "      <td>0</td>\n",
       "      <td>0</td>\n",
       "      <td>0</td>\n",
       "      <td>...</td>\n",
       "      <td>0</td>\n",
       "      <td>0</td>\n",
       "      <td>0</td>\n",
       "      <td>0</td>\n",
       "      <td>0</td>\n",
       "      <td>0</td>\n",
       "      <td>0</td>\n",
       "      <td>0</td>\n",
       "      <td>0</td>\n",
       "      <td>0</td>\n",
       "    </tr>\n",
       "  </tbody>\n",
       "</table>\n",
       "<p>5 rows × 785 columns</p>\n",
       "</div>"
      ],
      "text/plain": [
       "   label  pixel0  pixel1  pixel2  pixel3  pixel4  pixel5  pixel6  pixel7  \\\n",
       "0      1       0       0       0       0       0       0       0       0   \n",
       "1      0       0       0       0       0       0       0       0       0   \n",
       "2      1       0       0       0       0       0       0       0       0   \n",
       "3      4       0       0       0       0       0       0       0       0   \n",
       "4      0       0       0       0       0       0       0       0       0   \n",
       "\n",
       "   pixel8  ...  pixel774  pixel775  pixel776  pixel777  pixel778  pixel779  \\\n",
       "0       0  ...         0         0         0         0         0         0   \n",
       "1       0  ...         0         0         0         0         0         0   \n",
       "2       0  ...         0         0         0         0         0         0   \n",
       "3       0  ...         0         0         0         0         0         0   \n",
       "4       0  ...         0         0         0         0         0         0   \n",
       "\n",
       "   pixel780  pixel781  pixel782  pixel783  \n",
       "0         0         0         0         0  \n",
       "1         0         0         0         0  \n",
       "2         0         0         0         0  \n",
       "3         0         0         0         0  \n",
       "4         0         0         0         0  \n",
       "\n",
       "[5 rows x 785 columns]"
      ]
     },
     "execution_count": 3,
     "metadata": {},
     "output_type": "execute_result"
    }
   ],
   "source": [
    "train_df.head()"
   ]
  },
  {
   "cell_type": "code",
   "execution_count": 4,
   "id": "d7b68222",
   "metadata": {
    "execution": {
     "iopub.execute_input": "2023-08-11T10:09:51.352939Z",
     "iopub.status.busy": "2023-08-11T10:09:51.352640Z",
     "iopub.status.idle": "2023-08-11T10:09:51.369860Z",
     "shell.execute_reply": "2023-08-11T10:09:51.368865Z"
    },
    "papermill": {
     "duration": 0.028557,
     "end_time": "2023-08-11T10:09:51.372764",
     "exception": false,
     "start_time": "2023-08-11T10:09:51.344207",
     "status": "completed"
    },
    "tags": []
   },
   "outputs": [
    {
     "data": {
      "text/html": [
       "<div>\n",
       "<style scoped>\n",
       "    .dataframe tbody tr th:only-of-type {\n",
       "        vertical-align: middle;\n",
       "    }\n",
       "\n",
       "    .dataframe tbody tr th {\n",
       "        vertical-align: top;\n",
       "    }\n",
       "\n",
       "    .dataframe thead th {\n",
       "        text-align: right;\n",
       "    }\n",
       "</style>\n",
       "<table border=\"1\" class=\"dataframe\">\n",
       "  <thead>\n",
       "    <tr style=\"text-align: right;\">\n",
       "      <th></th>\n",
       "      <th>pixel0</th>\n",
       "      <th>pixel1</th>\n",
       "      <th>pixel2</th>\n",
       "      <th>pixel3</th>\n",
       "      <th>pixel4</th>\n",
       "      <th>pixel5</th>\n",
       "      <th>pixel6</th>\n",
       "      <th>pixel7</th>\n",
       "      <th>pixel8</th>\n",
       "      <th>pixel9</th>\n",
       "      <th>...</th>\n",
       "      <th>pixel774</th>\n",
       "      <th>pixel775</th>\n",
       "      <th>pixel776</th>\n",
       "      <th>pixel777</th>\n",
       "      <th>pixel778</th>\n",
       "      <th>pixel779</th>\n",
       "      <th>pixel780</th>\n",
       "      <th>pixel781</th>\n",
       "      <th>pixel782</th>\n",
       "      <th>pixel783</th>\n",
       "    </tr>\n",
       "  </thead>\n",
       "  <tbody>\n",
       "    <tr>\n",
       "      <th>0</th>\n",
       "      <td>0</td>\n",
       "      <td>0</td>\n",
       "      <td>0</td>\n",
       "      <td>0</td>\n",
       "      <td>0</td>\n",
       "      <td>0</td>\n",
       "      <td>0</td>\n",
       "      <td>0</td>\n",
       "      <td>0</td>\n",
       "      <td>0</td>\n",
       "      <td>...</td>\n",
       "      <td>0</td>\n",
       "      <td>0</td>\n",
       "      <td>0</td>\n",
       "      <td>0</td>\n",
       "      <td>0</td>\n",
       "      <td>0</td>\n",
       "      <td>0</td>\n",
       "      <td>0</td>\n",
       "      <td>0</td>\n",
       "      <td>0</td>\n",
       "    </tr>\n",
       "    <tr>\n",
       "      <th>1</th>\n",
       "      <td>0</td>\n",
       "      <td>0</td>\n",
       "      <td>0</td>\n",
       "      <td>0</td>\n",
       "      <td>0</td>\n",
       "      <td>0</td>\n",
       "      <td>0</td>\n",
       "      <td>0</td>\n",
       "      <td>0</td>\n",
       "      <td>0</td>\n",
       "      <td>...</td>\n",
       "      <td>0</td>\n",
       "      <td>0</td>\n",
       "      <td>0</td>\n",
       "      <td>0</td>\n",
       "      <td>0</td>\n",
       "      <td>0</td>\n",
       "      <td>0</td>\n",
       "      <td>0</td>\n",
       "      <td>0</td>\n",
       "      <td>0</td>\n",
       "    </tr>\n",
       "    <tr>\n",
       "      <th>2</th>\n",
       "      <td>0</td>\n",
       "      <td>0</td>\n",
       "      <td>0</td>\n",
       "      <td>0</td>\n",
       "      <td>0</td>\n",
       "      <td>0</td>\n",
       "      <td>0</td>\n",
       "      <td>0</td>\n",
       "      <td>0</td>\n",
       "      <td>0</td>\n",
       "      <td>...</td>\n",
       "      <td>0</td>\n",
       "      <td>0</td>\n",
       "      <td>0</td>\n",
       "      <td>0</td>\n",
       "      <td>0</td>\n",
       "      <td>0</td>\n",
       "      <td>0</td>\n",
       "      <td>0</td>\n",
       "      <td>0</td>\n",
       "      <td>0</td>\n",
       "    </tr>\n",
       "    <tr>\n",
       "      <th>3</th>\n",
       "      <td>0</td>\n",
       "      <td>0</td>\n",
       "      <td>0</td>\n",
       "      <td>0</td>\n",
       "      <td>0</td>\n",
       "      <td>0</td>\n",
       "      <td>0</td>\n",
       "      <td>0</td>\n",
       "      <td>0</td>\n",
       "      <td>0</td>\n",
       "      <td>...</td>\n",
       "      <td>0</td>\n",
       "      <td>0</td>\n",
       "      <td>0</td>\n",
       "      <td>0</td>\n",
       "      <td>0</td>\n",
       "      <td>0</td>\n",
       "      <td>0</td>\n",
       "      <td>0</td>\n",
       "      <td>0</td>\n",
       "      <td>0</td>\n",
       "    </tr>\n",
       "    <tr>\n",
       "      <th>4</th>\n",
       "      <td>0</td>\n",
       "      <td>0</td>\n",
       "      <td>0</td>\n",
       "      <td>0</td>\n",
       "      <td>0</td>\n",
       "      <td>0</td>\n",
       "      <td>0</td>\n",
       "      <td>0</td>\n",
       "      <td>0</td>\n",
       "      <td>0</td>\n",
       "      <td>...</td>\n",
       "      <td>0</td>\n",
       "      <td>0</td>\n",
       "      <td>0</td>\n",
       "      <td>0</td>\n",
       "      <td>0</td>\n",
       "      <td>0</td>\n",
       "      <td>0</td>\n",
       "      <td>0</td>\n",
       "      <td>0</td>\n",
       "      <td>0</td>\n",
       "    </tr>\n",
       "  </tbody>\n",
       "</table>\n",
       "<p>5 rows × 784 columns</p>\n",
       "</div>"
      ],
      "text/plain": [
       "   pixel0  pixel1  pixel2  pixel3  pixel4  pixel5  pixel6  pixel7  pixel8  \\\n",
       "0       0       0       0       0       0       0       0       0       0   \n",
       "1       0       0       0       0       0       0       0       0       0   \n",
       "2       0       0       0       0       0       0       0       0       0   \n",
       "3       0       0       0       0       0       0       0       0       0   \n",
       "4       0       0       0       0       0       0       0       0       0   \n",
       "\n",
       "   pixel9  ...  pixel774  pixel775  pixel776  pixel777  pixel778  pixel779  \\\n",
       "0       0  ...         0         0         0         0         0         0   \n",
       "1       0  ...         0         0         0         0         0         0   \n",
       "2       0  ...         0         0         0         0         0         0   \n",
       "3       0  ...         0         0         0         0         0         0   \n",
       "4       0  ...         0         0         0         0         0         0   \n",
       "\n",
       "   pixel780  pixel781  pixel782  pixel783  \n",
       "0         0         0         0         0  \n",
       "1         0         0         0         0  \n",
       "2         0         0         0         0  \n",
       "3         0         0         0         0  \n",
       "4         0         0         0         0  \n",
       "\n",
       "[5 rows x 784 columns]"
      ]
     },
     "execution_count": 4,
     "metadata": {},
     "output_type": "execute_result"
    }
   ],
   "source": [
    "test_df.head()"
   ]
  },
  {
   "cell_type": "code",
   "execution_count": 5,
   "id": "f0780366",
   "metadata": {
    "execution": {
     "iopub.execute_input": "2023-08-11T10:09:51.390227Z",
     "iopub.status.busy": "2023-08-11T10:09:51.389438Z",
     "iopub.status.idle": "2023-08-11T10:09:51.476467Z",
     "shell.execute_reply": "2023-08-11T10:09:51.475264Z"
    },
    "papermill": {
     "duration": 0.098268,
     "end_time": "2023-08-11T10:09:51.479419",
     "exception": false,
     "start_time": "2023-08-11T10:09:51.381151",
     "status": "completed"
    },
    "tags": []
   },
   "outputs": [],
   "source": [
    "y_train=train_df[\"label\"]\n",
    "X_train = train_df.drop(labels = [\"label\"],axis = 1) "
   ]
  },
  {
   "cell_type": "code",
   "execution_count": 6,
   "id": "982e92bf",
   "metadata": {
    "execution": {
     "iopub.execute_input": "2023-08-11T10:09:51.497374Z",
     "iopub.status.busy": "2023-08-11T10:09:51.497060Z",
     "iopub.status.idle": "2023-08-11T10:09:51.501402Z",
     "shell.execute_reply": "2023-08-11T10:09:51.500327Z"
    },
    "papermill": {
     "duration": 0.016316,
     "end_time": "2023-08-11T10:09:51.504481",
     "exception": false,
     "start_time": "2023-08-11T10:09:51.488165",
     "status": "completed"
    },
    "tags": []
   },
   "outputs": [],
   "source": [
    "X_test = test_df"
   ]
  },
  {
   "cell_type": "code",
   "execution_count": 7,
   "id": "3fe65597",
   "metadata": {
    "execution": {
     "iopub.execute_input": "2023-08-11T10:09:51.520904Z",
     "iopub.status.busy": "2023-08-11T10:09:51.520562Z",
     "iopub.status.idle": "2023-08-11T10:09:51.837017Z",
     "shell.execute_reply": "2023-08-11T10:09:51.835776Z"
    },
    "papermill": {
     "duration": 0.327324,
     "end_time": "2023-08-11T10:09:51.839567",
     "exception": false,
     "start_time": "2023-08-11T10:09:51.512243",
     "status": "completed"
    },
    "tags": []
   },
   "outputs": [
    {
     "data": {
      "text/plain": [
       "1    4684\n",
       "7    4401\n",
       "3    4351\n",
       "9    4188\n",
       "2    4177\n",
       "6    4137\n",
       "0    4132\n",
       "4    4072\n",
       "8    4063\n",
       "5    3795\n",
       "Name: label, dtype: int64"
      ]
     },
     "execution_count": 7,
     "metadata": {},
     "output_type": "execute_result"
    },
    {
     "data": {
      "image/png": "[encoded data removed]",
      "text/plain": [
       "<Figure size 640x480 with 1 Axes>"
      ]
     },
     "metadata": {},
     "output_type": "display_data"
    }
   ],
   "source": [
    "# look at y_train closer\n",
    "sns.countplot(x=y_train)\n",
    "\n",
    "y_train.value_counts()"
   ]
  },
  {
   "cell_type": "code",
   "execution_count": 8,
   "id": "5b63d5b0",
   "metadata": {
    "execution": {
     "iopub.execute_input": "2023-08-11T10:09:51.858206Z",
     "iopub.status.busy": "2023-08-11T10:09:51.857897Z",
     "iopub.status.idle": "2023-08-11T10:09:51.875866Z",
     "shell.execute_reply": "2023-08-11T10:09:51.874802Z"
    },
    "papermill": {
     "duration": 0.02978,
     "end_time": "2023-08-11T10:09:51.878177",
     "exception": false,
     "start_time": "2023-08-11T10:09:51.848397",
     "status": "completed"
    },
    "tags": []
   },
   "outputs": [
    {
     "data": {
      "text/plain": [
       "count       784\n",
       "unique        1\n",
       "top       False\n",
       "freq        784\n",
       "dtype: object"
      ]
     },
     "execution_count": 8,
     "metadata": {},
     "output_type": "execute_result"
    }
   ],
   "source": [
    "# no missing data in X_train\n",
    "X_train.isnull().any().describe()"
   ]
  },
  {
   "cell_type": "code",
   "execution_count": 9,
   "id": "b8c7c913",
   "metadata": {
    "execution": {
     "iopub.execute_input": "2023-08-11T10:09:51.896551Z",
     "iopub.status.busy": "2023-08-11T10:09:51.896243Z",
     "iopub.status.idle": "2023-08-11T10:09:51.909919Z",
     "shell.execute_reply": "2023-08-11T10:09:51.908848Z"
    },
    "papermill": {
     "duration": 0.025622,
     "end_time": "2023-08-11T10:09:51.912360",
     "exception": false,
     "start_time": "2023-08-11T10:09:51.886738",
     "status": "completed"
    },
    "tags": []
   },
   "outputs": [
    {
     "data": {
      "text/plain": [
       "count       784\n",
       "unique        1\n",
       "top       False\n",
       "freq        784\n",
       "dtype: object"
      ]
     },
     "execution_count": 9,
     "metadata": {},
     "output_type": "execute_result"
    }
   ],
   "source": [
    "# no missing data in X_test\n",
    "X_test.isnull().any().describe()"
   ]
  },
  {
   "cell_type": "code",
   "execution_count": 10,
   "id": "3996a2c3",
   "metadata": {
    "execution": {
     "iopub.execute_input": "2023-08-11T10:09:51.930757Z",
     "iopub.status.busy": "2023-08-11T10:09:51.930476Z",
     "iopub.status.idle": "2023-08-11T10:09:52.114744Z",
     "shell.execute_reply": "2023-08-11T10:09:52.113756Z"
    },
    "papermill": {
     "duration": 0.196652,
     "end_time": "2023-08-11T10:09:52.117407",
     "exception": false,
     "start_time": "2023-08-11T10:09:51.920755",
     "status": "completed"
    },
    "tags": []
   },
   "outputs": [],
   "source": [
    "# normalize the data\n",
    "X_train = X_train / 255.0\n",
    "X_test = X_test / 255.0"
   ]
  },
  {
   "cell_type": "code",
   "execution_count": 11,
   "id": "83117832",
   "metadata": {
    "execution": {
     "iopub.execute_input": "2023-08-11T10:09:52.136484Z",
     "iopub.status.busy": "2023-08-11T10:09:52.136177Z",
     "iopub.status.idle": "2023-08-11T10:09:52.141244Z",
     "shell.execute_reply": "2023-08-11T10:09:52.140226Z"
    },
    "papermill": {
     "duration": 0.016962,
     "end_time": "2023-08-11T10:09:52.143201",
     "exception": false,
     "start_time": "2023-08-11T10:09:52.126239",
     "status": "completed"
    },
    "tags": []
   },
   "outputs": [],
   "source": [
    "# reshape the images\n",
    "X_train = X_train.values.reshape(-1,28,28,1)\n",
    "X_test = X_test.values.reshape(-1,28,28,1)"
   ]
  },
  {
   "cell_type": "code",
   "execution_count": 12,
   "id": "1ebc3e86",
   "metadata": {
    "execution": {
     "iopub.execute_input": "2023-08-11T10:09:52.161426Z",
     "iopub.status.busy": "2023-08-11T10:09:52.160867Z",
     "iopub.status.idle": "2023-08-11T10:09:52.166621Z",
     "shell.execute_reply": "2023-08-11T10:09:52.165945Z"
    },
    "papermill": {
     "duration": 0.016881,
     "end_time": "2023-08-11T10:09:52.168466",
     "exception": false,
     "start_time": "2023-08-11T10:09:52.151585",
     "status": "completed"
    },
    "tags": []
   },
   "outputs": [
    {
     "data": {
      "text/plain": [
       "(42000, 28, 28, 1)"
      ]
     },
     "execution_count": 12,
     "metadata": {},
     "output_type": "execute_result"
    }
   ],
   "source": [
    "X_train.shape"
   ]
  },
  {
   "cell_type": "code",
   "execution_count": 13,
   "id": "d84601f5",
   "metadata": {
    "execution": {
     "iopub.execute_input": "2023-08-11T10:09:52.186317Z",
     "iopub.status.busy": "2023-08-11T10:09:52.185740Z",
     "iopub.status.idle": "2023-08-11T10:09:52.191462Z",
     "shell.execute_reply": "2023-08-11T10:09:52.190819Z"
    },
    "papermill": {
     "duration": 0.016696,
     "end_time": "2023-08-11T10:09:52.193261",
     "exception": false,
     "start_time": "2023-08-11T10:09:52.176565",
     "status": "completed"
    },
    "tags": []
   },
   "outputs": [
    {
     "data": {
      "text/plain": [
       "(28000, 28, 28, 1)"
      ]
     },
     "execution_count": 13,
     "metadata": {},
     "output_type": "execute_result"
    }
   ],
   "source": [
    "X_test.shape"
   ]
  },
  {
   "cell_type": "code",
   "execution_count": 14,
   "id": "2022b547",
   "metadata": {
    "execution": {
     "iopub.execute_input": "2023-08-11T10:09:52.212354Z",
     "iopub.status.busy": "2023-08-11T10:09:52.210964Z",
     "iopub.status.idle": "2023-08-11T10:09:52.580261Z",
     "shell.execute_reply": "2023-08-11T10:09:52.579192Z"
    },
    "papermill": {
     "duration": 0.381353,
     "end_time": "2023-08-11T10:09:52.583176",
     "exception": false,
     "start_time": "2023-08-11T10:09:52.201823",
     "status": "completed"
    },
    "tags": []
   },
   "outputs": [],
   "source": [
    "#shuffle the data\n",
    "X_train, y_train = shuffle(X_train, y_train)"
   ]
  },
  {
   "cell_type": "code",
   "execution_count": 15,
   "id": "d2512308",
   "metadata": {
    "execution": {
     "iopub.execute_input": "2023-08-11T10:09:52.603188Z",
     "iopub.status.busy": "2023-08-11T10:09:52.602848Z",
     "iopub.status.idle": "2023-08-11T10:09:52.689408Z",
     "shell.execute_reply": "2023-08-11T10:09:52.688313Z"
    },
    "papermill": {
     "duration": 0.099692,
     "end_time": "2023-08-11T10:09:52.691991",
     "exception": false,
     "start_time": "2023-08-11T10:09:52.592299",
     "status": "completed"
    },
    "tags": []
   },
   "outputs": [],
   "source": [
    "# split the data into training and validation\n",
    "X_train, X_val, y_train, y_val = train_test_split(X_train, y_train, test_size = 0.1)"
   ]
  },
  {
   "cell_type": "code",
   "execution_count": 16,
   "id": "c5ede27d",
   "metadata": {
    "execution": {
     "iopub.execute_input": "2023-08-11T10:09:52.712366Z",
     "iopub.status.busy": "2023-08-11T10:09:52.711671Z",
     "iopub.status.idle": "2023-08-11T10:09:52.982875Z",
     "shell.execute_reply": "2023-08-11T10:09:52.981834Z"
    },
    "papermill": {
     "duration": 0.283312,
     "end_time": "2023-08-11T10:09:52.985063",
     "exception": false,
     "start_time": "2023-08-11T10:09:52.701751",
     "status": "completed"
    },
    "tags": []
   },
   "outputs": [
    {
     "data": {
      "text/plain": [
       "<matplotlib.image.AxesImage at 0x798f24fa67d0>"
      ]
     },
     "execution_count": 16,
     "metadata": {},
     "output_type": "execute_result"
    },
    {
     "data": {
      "image/png": "[encoded data removed]",
      "text/plain": [
       "<Figure size 640x480 with 1 Axes>"
      ]
     },
     "metadata": {},
     "output_type": "display_data"
    }
   ],
   "source": [
    "# plot the first element\n",
    "plt.imshow(X_train[0])"
   ]
  },
  {
   "cell_type": "code",
   "execution_count": 17,
   "id": "3cacaf8f",
   "metadata": {
    "execution": {
     "iopub.execute_input": "2023-08-11T10:09:53.005868Z",
     "iopub.status.busy": "2023-08-11T10:09:53.004148Z",
     "iopub.status.idle": "2023-08-11T10:09:57.095677Z",
     "shell.execute_reply": "2023-08-11T10:09:57.094672Z"
    },
    "papermill": {
     "duration": 4.103844,
     "end_time": "2023-08-11T10:09:57.098083",
     "exception": false,
     "start_time": "2023-08-11T10:09:52.994239",
     "status": "completed"
    },
    "tags": []
   },
   "outputs": [],
   "source": [
    "# create the model\n",
    "model = Sequential()\n",
    "\n",
    "model.add(Conv2D(filters = 16, kernel_size = (5,5),padding = 'Same', \n",
    "                 activation ='relu', input_shape = (28,28,1)))\n",
    "model.add(MaxPool2D(pool_size=(2,2)))\n",
    "model.add(Dropout(0.2))\n",
    "\n",
    "model.add(Conv2D(filters = 32, kernel_size = (5,5),padding = 'Same', \n",
    "                 activation ='relu'))\n",
    "model.add(MaxPool2D(pool_size=(2,2)))\n",
    "model.add(Dropout(0.2))\n",
    "\n",
    "model.add(Conv2D(filters = 64, kernel_size = (3,3),padding = 'Same', \n",
    "                 activation ='relu'))\n",
    "model.add(MaxPool2D(pool_size=(2,2), strides=(2,2)))\n",
    "model.add(Dropout(0.2))\n",
    "\n",
    "\n",
    "model.add(Flatten())\n",
    "model.add(Dense(256, activation='relu'))\n",
    "model.add(Dropout(0.5))\n",
    "model.add(Dense(64, activation='relu'))\n",
    "model.add(Dropout(0.5))\n",
    "model.add(Dense(10, activation='linear'))"
   ]
  },
  {
   "cell_type": "code",
   "execution_count": 18,
   "id": "ae5f698c",
   "metadata": {
    "execution": {
     "iopub.execute_input": "2023-08-11T10:09:57.119969Z",
     "iopub.status.busy": "2023-08-11T10:09:57.119586Z",
     "iopub.status.idle": "2023-08-11T10:09:57.160309Z",
     "shell.execute_reply": "2023-08-11T10:09:57.159315Z"
    },
    "papermill": {
     "duration": 0.078236,
     "end_time": "2023-08-11T10:09:57.186907",
     "exception": false,
     "start_time": "2023-08-11T10:09:57.108671",
     "status": "completed"
    },
    "tags": []
   },
   "outputs": [
    {
     "name": "stdout",
     "output_type": "stream",
     "text": [
      "Model: \"sequential\"\n",
      "_________________________________________________________________\n",
      " Layer (type)                Output Shape              Param #   \n",
      "=================================================================\n",
      " conv2d (Conv2D)             (None, 28, 28, 16)        416       \n",
      "                                                                 \n",
      " max_pooling2d (MaxPooling2D  (None, 14, 14, 16)       0         \n",
      " )                                                               \n",
      "                                                                 \n",
      " dropout (Dropout)           (None, 14, 14, 16)        0         \n",
      "                                                                 \n",
      " conv2d_1 (Conv2D)           (None, 14, 14, 32)        12832     \n",
      "                                                                 \n",
      " max_pooling2d_1 (MaxPooling  (None, 7, 7, 32)         0         \n",
      " 2D)                                                             \n",
      "                                                                 \n",
      " dropout_1 (Dropout)         (None, 7, 7, 32)          0         \n",
      "                                                                 \n",
      " conv2d_2 (Conv2D)           (None, 7, 7, 64)          18496     \n",
      "                                                                 \n",
      " max_pooling2d_2 (MaxPooling  (None, 3, 3, 64)         0         \n",
      " 2D)                                                             \n",
      "                                                                 \n",
      " dropout_2 (Dropout)         (None, 3, 3, 64)          0         \n",
      "                                                                 \n",
      " flatten (Flatten)           (None, 576)               0         \n",
      "                                                                 \n",
      " dense (Dense)               (None, 256)               147712    \n",
      "                                                                 \n",
      " dropout_3 (Dropout)         (None, 256)               0         \n",
      "                                                                 \n",
      " dense_1 (Dense)             (None, 64)                16448     \n",
      "                                                                 \n",
      " dropout_4 (Dropout)         (None, 64)                0         \n",
      "                                                                 \n",
      " dense_2 (Dense)             (None, 10)                650       \n",
      "                                                                 \n",
      "=================================================================\n",
      "Total params: 196,554\n",
      "Trainable params: 196,554\n",
      "Non-trainable params: 0\n",
      "_________________________________________________________________\n"
     ]
    }
   ],
   "source": [
    "model.summary()"
   ]
  },
  {
   "cell_type": "code",
   "execution_count": 19,
   "id": "e1e32f00",
   "metadata": {
    "execution": {
     "iopub.execute_input": "2023-08-11T10:09:57.212615Z",
     "iopub.status.busy": "2023-08-11T10:09:57.212323Z",
     "iopub.status.idle": "2023-08-11T10:09:57.229508Z",
     "shell.execute_reply": "2023-08-11T10:09:57.228625Z"
    },
    "papermill": {
     "duration": 0.031977,
     "end_time": "2023-08-11T10:09:57.231606",
     "exception": false,
     "start_time": "2023-08-11T10:09:57.199629",
     "status": "completed"
    },
    "tags": []
   },
   "outputs": [],
   "source": [
    "model.compile(optimizer='adam', loss=tf.losses.SparseCategoricalCrossentropy(from_logits=True), metrics=['accuracy'])"
   ]
  },
  {
   "cell_type": "code",
   "execution_count": 20,
   "id": "90d680c1",
   "metadata": {
    "execution": {
     "iopub.execute_input": "2023-08-11T10:09:57.256881Z",
     "iopub.status.busy": "2023-08-11T10:09:57.256594Z",
     "iopub.status.idle": "2023-08-11T10:12:20.690154Z",
     "shell.execute_reply": "2023-08-11T10:12:20.689020Z"
    },
    "papermill": {
     "duration": 143.449391,
     "end_time": "2023-08-11T10:12:20.693067",
     "exception": false,
     "start_time": "2023-08-11T10:09:57.243676",
     "status": "completed"
    },
    "tags": []
   },
   "outputs": [
    {
     "name": "stdout",
     "output_type": "stream",
     "text": [
      "Epoch 1/30\n"
     ]
    },
    {
     "name": "stderr",
     "output_type": "stream",
     "text": [
      "2023-08-11 10:09:58.667770: E tensorflow/core/grappler/optimizers/meta_optimizer.cc:954] layout failed: INVALID_ARGUMENT: Size of values 0 does not match size of permutation 4 @ fanin shape insequential/dropout/dropout/SelectV2-2-TransposeNHWCToNCHW-LayoutOptimizer\n"
     ]
    },
    {
     "name": "stdout",
     "output_type": "stream",
     "text": [
      "591/591 [==============================] - 14s 6ms/step - loss: 0.6719 - accuracy: 0.7763 - val_loss: 0.0983 - val_accuracy: 0.9731\n",
      "Epoch 2/30\n",
      "591/591 [==============================] - 3s 6ms/step - loss: 0.1661 - accuracy: 0.9560 - val_loss: 0.0631 - val_accuracy: 0.9826\n",
      "Epoch 3/30\n",
      "591/591 [==============================] - 4s 6ms/step - loss: 0.1237 - accuracy: 0.9681 - val_loss: 0.0586 - val_accuracy: 0.9845\n",
      "Epoch 4/30\n",
      "591/591 [==============================] - 3s 5ms/step - loss: 0.1025 - accuracy: 0.9738 - val_loss: 0.0516 - val_accuracy: 0.9852\n",
      "Epoch 5/30\n",
      "591/591 [==============================] - 3s 6ms/step - loss: 0.0845 - accuracy: 0.9784 - val_loss: 0.0448 - val_accuracy: 0.9879\n",
      "Epoch 6/30\n",
      "591/591 [==============================] - 3s 5ms/step - loss: 0.0808 - accuracy: 0.9792 - val_loss: 0.0408 - val_accuracy: 0.9888\n",
      "Epoch 7/30\n",
      "591/591 [==============================] - 3s 6ms/step - loss: 0.0714 - accuracy: 0.9824 - val_loss: 0.0374 - val_accuracy: 0.9898\n",
      "Epoch 8/30\n",
      "591/591 [==============================] - 3s 6ms/step - loss: 0.0673 - accuracy: 0.9823 - val_loss: 0.0391 - val_accuracy: 0.9893\n",
      "Epoch 9/30\n",
      "591/591 [==============================] - 3s 6ms/step - loss: 0.0625 - accuracy: 0.9832 - val_loss: 0.0348 - val_accuracy: 0.9890\n",
      "Epoch 10/30\n",
      "591/591 [==============================] - 3s 5ms/step - loss: 0.0619 - accuracy: 0.9837 - val_loss: 0.0456 - val_accuracy: 0.9871\n",
      "Epoch 11/30\n",
      "591/591 [==============================] - 3s 6ms/step - loss: 0.0569 - accuracy: 0.9851 - val_loss: 0.0288 - val_accuracy: 0.9898\n",
      "Epoch 12/30\n",
      "591/591 [==============================] - 4s 6ms/step - loss: 0.0529 - accuracy: 0.9872 - val_loss: 0.0314 - val_accuracy: 0.9910\n",
      "Epoch 13/30\n",
      "591/591 [==============================] - 3s 6ms/step - loss: 0.0509 - accuracy: 0.9869 - val_loss: 0.0352 - val_accuracy: 0.9907\n",
      "Epoch 14/30\n",
      "591/591 [==============================] - 3s 6ms/step - loss: 0.0449 - accuracy: 0.9885 - val_loss: 0.0339 - val_accuracy: 0.9917\n",
      "Epoch 15/30\n",
      "591/591 [==============================] - 3s 6ms/step - loss: 0.0496 - accuracy: 0.9873 - val_loss: 0.0368 - val_accuracy: 0.9910\n",
      "Epoch 16/30\n",
      "591/591 [==============================] - 3s 6ms/step - loss: 0.0463 - accuracy: 0.9881 - val_loss: 0.0299 - val_accuracy: 0.9929\n",
      "Epoch 17/30\n",
      "591/591 [==============================] - 3s 6ms/step - loss: 0.0432 - accuracy: 0.9886 - val_loss: 0.0396 - val_accuracy: 0.9910\n",
      "Epoch 18/30\n",
      "591/591 [==============================] - 3s 6ms/step - loss: 0.0438 - accuracy: 0.9890 - val_loss: 0.0350 - val_accuracy: 0.9924\n",
      "Epoch 19/30\n",
      "591/591 [==============================] - 3s 5ms/step - loss: 0.0398 - accuracy: 0.9893 - val_loss: 0.0357 - val_accuracy: 0.9919\n",
      "Epoch 20/30\n",
      "591/591 [==============================] - 3s 6ms/step - loss: 0.0430 - accuracy: 0.9891 - val_loss: 0.0364 - val_accuracy: 0.9917\n",
      "Epoch 21/30\n",
      "591/591 [==============================] - 4s 6ms/step - loss: 0.0414 - accuracy: 0.9889 - val_loss: 0.0372 - val_accuracy: 0.9926\n",
      "Epoch 22/30\n",
      "591/591 [==============================] - 3s 6ms/step - loss: 0.0407 - accuracy: 0.9896 - val_loss: 0.0332 - val_accuracy: 0.9919\n",
      "Epoch 23/30\n",
      "591/591 [==============================] - 3s 6ms/step - loss: 0.0416 - accuracy: 0.9886 - val_loss: 0.0331 - val_accuracy: 0.9933\n",
      "Epoch 24/30\n",
      "591/591 [==============================] - 3s 6ms/step - loss: 0.0378 - accuracy: 0.9907 - val_loss: 0.0344 - val_accuracy: 0.9929\n",
      "Epoch 25/30\n",
      "591/591 [==============================] - 3s 5ms/step - loss: 0.0370 - accuracy: 0.9902 - val_loss: 0.0340 - val_accuracy: 0.9936\n",
      "Epoch 26/30\n",
      "591/591 [==============================] - 3s 6ms/step - loss: 0.0372 - accuracy: 0.9904 - val_loss: 0.0384 - val_accuracy: 0.9914\n",
      "Epoch 27/30\n",
      "591/591 [==============================] - 3s 5ms/step - loss: 0.0372 - accuracy: 0.9907 - val_loss: 0.0337 - val_accuracy: 0.9931\n",
      "Epoch 28/30\n",
      "591/591 [==============================] - 3s 6ms/step - loss: 0.0366 - accuracy: 0.9898 - val_loss: 0.0296 - val_accuracy: 0.9919\n",
      "Epoch 29/30\n",
      "591/591 [==============================] - 3s 6ms/step - loss: 0.0340 - accuracy: 0.9911 - val_loss: 0.0363 - val_accuracy: 0.9933\n",
      "Epoch 30/30\n",
      "591/591 [==============================] - 3s 5ms/step - loss: 0.0358 - accuracy: 0.9903 - val_loss: 0.0392 - val_accuracy: 0.9929\n"
     ]
    }
   ],
   "source": [
    "history = model.fit(X_train, y_train, epochs=30, validation_data=(X_val, y_val), batch_size=64)"
   ]
  },
  {
   "cell_type": "code",
   "execution_count": 21,
   "id": "f973d91a",
   "metadata": {
    "execution": {
     "iopub.execute_input": "2023-08-11T10:12:21.087931Z",
     "iopub.status.busy": "2023-08-11T10:12:21.087330Z",
     "iopub.status.idle": "2023-08-11T10:12:21.927765Z",
     "shell.execute_reply": "2023-08-11T10:12:21.926650Z"
    },
    "papermill": {
     "duration": 1.081038,
     "end_time": "2023-08-11T10:12:21.930653",
     "exception": false,
     "start_time": "2023-08-11T10:12:20.849615",
     "status": "completed"
    },
    "tags": []
   },
   "outputs": [
    {
     "data": {
      "image/png": "[encoded data removed]",
      "text/plain": [
       "<Figure size 640x480 with 1 Axes>"
      ]
     },
     "metadata": {},
     "output_type": "display_data"
    },
    {
     "data": {
      "image/png": "[encoded data removed]",
      "text/plain": [
       "<Figure size 640x480 with 1 Axes>"
      ]
     },
     "metadata": {},
     "output_type": "display_data"
    }
   ],
   "source": [
    "# plot the training and validation accuracy and loss at each epoch\n",
    "loss = history.history['loss']\n",
    "val_loss = history.history['val_loss']\n",
    "epochs = range(1, len(loss) + 1)\n",
    "plt.plot(epochs, loss, 'y', label='Training loss')\n",
    "plt.plot(epochs, val_loss, 'r', label='Validation loss')\n",
    "plt.title('Training and validation loss')\n",
    "plt.xlabel('Epochs')\n",
    "plt.ylabel('Loss')\n",
    "plt.legend()\n",
    "plt.show()\n",
    "\n",
    "\n",
    "acc = history.history['val_accuracy']\n",
    "val_acc = history.history['val_accuracy']\n",
    "plt.plot(epochs, acc, 'y', label='Training acc')\n",
    "plt.plot(epochs, val_acc, 'r', label='Validation acc')\n",
    "plt.title('Training and validation accuracy')\n",
    "plt.xlabel('Epochs')\n",
    "plt.ylabel('Accuracy')\n",
    "plt.legend()\n",
    "plt.show()"
   ]
  },
  {
   "cell_type": "code",
   "execution_count": 22,
   "id": "15d4a4df",
   "metadata": {
    "execution": {
     "iopub.execute_input": "2023-08-11T10:12:22.393175Z",
     "iopub.status.busy": "2023-08-11T10:12:22.392556Z",
     "iopub.status.idle": "2023-08-11T10:12:24.067454Z",
     "shell.execute_reply": "2023-08-11T10:12:24.066460Z"
    },
    "papermill": {
     "duration": 1.904985,
     "end_time": "2023-08-11T10:12:24.070098",
     "exception": false,
     "start_time": "2023-08-11T10:12:22.165113",
     "status": "completed"
    },
    "tags": []
   },
   "outputs": [
    {
     "data": {
      "text/plain": [
       "<Axes: >"
      ]
     },
     "execution_count": 22,
     "metadata": {},
     "output_type": "execute_result"
    },
    {
     "data": {
      "image/png": "[encoded data removed]",
      "text/plain": [
       "<Figure size 2500x2500 with 2 Axes>"
      ]
     },
     "metadata": {},
     "output_type": "display_data"
    }
   ],
   "source": [
    "# build confusion matrix\n",
    "logits = model(X_val)\n",
    "predict_x = tf.nn.softmax(logits)\n",
    "predicted_classes = np.argmax(predict_x,axis=1)\n",
    "y_true = y_val\n",
    "\n",
    "cm = confusion_matrix(y_true, predicted_classes)\n",
    "plt.figure(figsize = (25, 25))\n",
    "sns.heatmap(cm, annot = True)"
   ]
  },
  {
   "cell_type": "code",
   "execution_count": 23,
   "id": "af2581ca",
   "metadata": {
    "execution": {
     "iopub.execute_input": "2023-08-11T10:12:24.422604Z",
     "iopub.status.busy": "2023-08-11T10:12:24.422238Z",
     "iopub.status.idle": "2023-08-11T10:12:27.697116Z",
     "shell.execute_reply": "2023-08-11T10:12:27.696110Z"
    },
    "papermill": {
     "duration": 3.431391,
     "end_time": "2023-08-11T10:12:27.699573",
     "exception": false,
     "start_time": "2023-08-11T10:12:24.268182",
     "status": "completed"
    },
    "tags": []
   },
   "outputs": [],
   "source": [
    "logits = model(X_test)\n",
    "predict_x = tf.nn.softmax(logits)\n",
    "predicted_classes = np.argmax(predict_x,axis=1)"
   ]
  },
  {
   "cell_type": "code",
   "execution_count": 24,
   "id": "17f7db38",
   "metadata": {
    "execution": {
     "iopub.execute_input": "2023-08-11T10:12:28.014399Z",
     "iopub.status.busy": "2023-08-11T10:12:28.014041Z",
     "iopub.status.idle": "2023-08-11T10:12:28.090827Z",
     "shell.execute_reply": "2023-08-11T10:12:28.089305Z"
    },
    "papermill": {
     "duration": 0.234375,
     "end_time": "2023-08-11T10:12:28.094730",
     "exception": false,
     "start_time": "2023-08-11T10:12:27.860355",
     "status": "completed"
    },
    "tags": []
   },
   "outputs": [],
   "source": [
    "submissions=pd.DataFrame({\"ImageId\": list(range(1,len(predicted_classes)+1)),\n",
    "                         \"Label\": predicted_classes})\n",
    "submissions.to_csv(\"sub.csv\", index=False, header=True)"
   ]
  }
 ],
 "metadata": {
  "kernelspec": {
   "display_name": "Python 3",
   "language": "python",
   "name": "python3"
  },
  "language_info": {
   "codemirror_mode": {
    "name": "ipython",
    "version": 3
   },
   "file_extension": ".py",
   "mimetype": "text/x-python",
   "name": "python",
   "nbconvert_exporter": "python",
   "pygments_lexer": "ipython3",
   "version": "3.10.12"
  },
  "papermill": {
   "default_parameters": {},
   "duration": 184.78966,
   "end_time": "2023-08-11T10:12:31.559116",
   "environment_variables": {},
   "exception": null,
   "input_path": "__notebook__.ipynb",
   "output_path": "__notebook__.ipynb",
   "parameters": {},
   "start_time": "2023-08-11T10:09:26.769456",
   "version": "2.4.0"
  }
 },
 "nbformat": 4,
 "nbformat_minor": 5
}
